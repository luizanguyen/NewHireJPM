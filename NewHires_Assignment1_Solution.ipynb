{
 "cells": [
  {
   "cell_type": "markdown",
   "metadata": {},
   "source": [
    "# New Hire Training - Python Fundamentals: Day 1 Assignment Solution\n",
    "This Jupyter Notebook file is the answer key to **Assignment 1** of the J.P. Morgan New Hire Training.\n",
    "\n",
    "Beneath each blue <font color = 'blue'> **EXERCISE**</font>, there is a code cell that looks like this:"
   ]
  },
  {
   "cell_type": "code",
   "execution_count": null,
   "metadata": {},
   "outputs": [],
   "source": []
  },
  {
   "cell_type": "markdown",
   "metadata": {},
   "source": [
    "Type your answer in the code cell, and then press **Shift + Enter** to execute your code."
   ]
  },
  {
   "cell_type": "markdown",
   "metadata": {},
   "source": [
    "### Exercise 1\n",
    "In this exercise you will practice creating variables and learn the behaviour of casting.\n",
    "\n",
    "1. Create the following variable(s):\n",
    "    - Assign 4.3 to j.\n",
    "    - Assign 5.5 to k.\n",
    "\n",
    "2. Calculate j * k and cast the result as an integer to a variable ‘i’.\n",
    "    - To cast to integer use int().\n",
    "\n",
    "3. Print the value and type of ‘i’.\n",

    "4. Print the value and type of ‘j*k’.\n",
    "\n",
    "What do you notice about the behavior of casting a float to an integer?"
   ]
  },
  {
   "cell_type": "markdown",
   "metadata": {},
   "source": [
    "<font color = 'blue'> **EXERCISE 1 SOLUTION** </font>"
   ]
  },
  {
   "cell_type": "code",
   "execution_count": 2,
   "metadata": {},
   "outputs": [],
   "source": [
    "#%% Exercise 1\n",
    "#Cast the operation to an integer\n",
    "j=4.3\n",
    "k=5.5\n",
    "i = int(j * k)\n",
    "print(i)\n",
    "print(j*k) #What do you notice about the behaviour?\n",
    "# The decimals are chopped off\n",
    "print(type(i))"
   ]
  },
  {
   "cell_type": "markdown",
   "metadata": {},
   "source": [
    "### Exercise 2\n",
    "In this exercise you will practice how to clean a numeric value that is stored as a string formatted for display purposes.\n",
    "1. Assign '$123,456,789' to a variable name 'deal_value'.\n",
    "\n",
    "2. Use `.strip()` to remove the '$'.\n",
    "\n",
    "    - Remember to use ' ' or \" \" around the $.\n",
    "\n",
    "3. Use `.split()` to create a list divided at the commas.\n",
    "\n",
    "4. Use `.join()` to create a string with no spaces in between.\n",
    "\n",
    "5. Make the number useable (cast either to integer or float).\n",
    "\n",
    "    - Check that you can multiply the number by 2."
   ]
  },
  {
   "cell_type": "markdown",
   "metadata": {},
   "source": [
    "<font color = 'blue'> **EXERCISE 2 SOLUTION** </font>"
   ]
  },
  {
   "cell_type": "code",
   "execution_count": 3,
   "metadata": {},
   "outputs": [],
   "source": [
    "#%% Exercise 2\n",
    "#Convert string $123,456,789 into a useable integer\n",
    "deal_value = '$123,456,789'\n",
    "deal_value = deal_value.strip('$')\n",
    "deal_value = ''.join(i for i in deal_value.split(','))\n",
    "deal_value = int(deal_value)\n",
    "print(deal_value)\n",
    "print(type(deal_value))\n",
    "print(deal_value * 2)"
   ]
  },
  {
   "cell_type": "markdown",
   "metadata": {},
   "source": [
    "### Exercise 3\n",
    "In this exercise you will practice looping through values in a list and using if statements to control execution.\n",
    "1. Create the following list: `[100, 99, 105, 110, 95, 102]` and store the values in variable named 'mylist'.\n",
    "2. Loop through the elements in the list and perform the following inside the loop:\n",
    "    - If > 102 print \"Sell\"\n",
    "    - If < 100 print \"Buy\"\n",
    "    - Else print \"Hold\""
   ]
  },
  {
   "cell_type": "markdown",
   "metadata": {},
   "source": [
    "<font color = 'blue'> **EXERCISE 3 SOLUTION** </font>"
   ]
  },
  {
   "cell_type": "code",
   "execution_count": 4,
   "metadata": {},
   "outputs": [],
   "source": [
    "#%% Exercise 3\n",
    "\n",
    "mylist = [100,99,105,110,95,102]\n",
    "for price in mylist:\n",
    "    output = \"Price is ${} {}\"\n",
    "    if price > 102:\n",
    "        # print(\"Price is $\" + str(price) + \" Sell\")\n",
    "        print(output.format(price,\"Sell\"))\n",
    "    elif price < 100:\n",
    "        # print(\"Price is $\" + str(price) + \" Buy\")\n",
    "        print(output.format(price,\"Buy\"))\n",
    "    else:\n",
    "        print(\"Price is $\" + str(price) + \" Hold\")"
   ]
  },
  {
   "attachments": {
    "image-3.png": {
     "image/png": "[encoded data removed]"
    }
   },
   "cell_type": "markdown",
   "metadata": {},
   "source": [
    "### Exercise 4\n",
    "In this exercise you will practice using dictionaries and how to structure if statements effectively. Create a script that correctly identifies the correct fee/share to charge a client for a trade, depending on the share price of the trade.\n",
    "1. Create the following dictionary `{'GM':38.39, 'ADBE':267.45, 'HPE':14.71, 'QCOM':55.9, 'AMD':27.21, 'LUMN':13.7, 'ABEV':3.43,'AAPL':139.96, 'GE':13.36}` and store the values in a variable named *trades_prices*.\n",
    "2. Loop through the keys in the *trades_prices* dictionary and convert each price into the proper fee/share following the pricing grid below. Store the fees/share in a new dictionary. \n",
    "\n",
    "![image-3.png](attachment:image-3.png)\n",
    "\n",
    "*Hint: create an empty dictionary named trades_fees before the loop (trades_fees = {}) and use if/elif/else statement in a clever order so that you only need one logical check per if.*\n",
    "\n",
    "3. Print the new dictionary with fees/share and double check that the fees correspond with the proper prices in the original dictionary."
   ]
  },
  {
   "cell_type": "markdown",
   "metadata": {},
   "source": [
    "<font color = 'blue'> **EXERCISE 4 SOLUTION** </font>"
   ]
  },
  {
   "cell_type": "code",
   "execution_count": 5,
   "metadata": {},
   "outputs": [],
   "source": [
    "#%% Exercise 4\n",
    "\n",
    "trades_prices = {'GM':38.39, 'ADBE':267.45, 'HPE':14.71,\n",
    "                 'QCOM':55.9, 'AMD':27.21, 'LUMN':13.7,\n",
    "                 'ABEV':3.43,'AAPL':139.96, 'GE':13.36}\n",
    "trades_fees = {}\n",
    "\n",
    "for key in trades_prices.keys():\n",
    "    price = trades_prices[key]\n",
    "    if price >= 100:\n",
    "        trades_fees[key] = 0.125\n",
    "    elif price >= 50:\n",
    "        trades_fees[key] = 0.08\n",
    "    elif price >= 15:\n",
    "        trades_fees[key] = 0.04\n",
    "    elif price >= 5:\n",
    "        trades_fees[key] = 0.02\n",
    "    else:\n",
    "        trades_fees[key] = 0.01\n",
    "print(trades_fees)"
   ]
  },
  {
   "cell_type": "markdown",
   "metadata": {},
   "source": [
    "### Exercise 5\n",
    "In this exercise you will practice removing items from a list.\n",
    "1. Create the following list: `mylist = ['A', 'B', 'C', 'D', 'D', 'D']`.\n",
    "2. Create a loop using the syntax while ‘D’ in mylist, that will remove all instances of ‘D’ from the list.\n",
    "- Since .remove() will only remove the first instance of ‘D’, we need to use a loop to remove all instances of ‘D’ from the list."
   ]
  },
  {
   "cell_type": "markdown",
   "metadata": {},
   "source": [
    "<font color = 'blue'> **EXERCISE 5 SOLUTION** </font>"
   ]
  },
  {
   "cell_type": "code",
   "execution_count": 6,
   "metadata": {},
   "outputs": [],
   "source": [
    "#%% Exercise 5\n",
    "mylist = ['A','B','C','D','D','D']\n",
    "\n",
    "while 'D' in mylist:\n",
    "    mylist.remove('D')\n",
    "\n",
    "print(mylist)"
   ]
  },
  {
   "cell_type": "markdown",
   "metadata": {},
   "source": [
    "### Exercise 6\n",
    "For this exercise, you will create a more generic function that cleans up financial numbers. Ensure that your function can handle all the scenarios below, including negative numbers formatted with brackets and numbers that are already int or float. \n",
    "1. Create the a list called *messyData* with the following data:"
   ]
  },
  {
   "cell_type": "code",
   "execution_count": 94,
   "metadata": {},
   "outputs": [],
   "source": [
    "# ['$123,456', \"($400,927)\", \"-562\", 231.55, 100, '900000','€496,000','(£100,000)']"
   ]
  },
  {
   "cell_type": "markdown",
   "metadata": {},
   "source": [
    "2. Create a function *cleanNum* that takes one input at a time and converts it to a float if possible, otherwise outputs \"n.a.\" if it cannot be converted.\n",
    "\n",
    "3. Use list comprehension to save the clean numbers in a new list called *cleanData*."
   ]
  },
  {
   "cell_type": "markdown",
   "metadata": {},
   "source": [
    "<font color = 'blue'> **EXERCISE 6 SOLUTION** </font>"
   ]
  },
  {
   "cell_type": "code",
   "execution_count": 7,
   "metadata": {},
   "outputs": [],
   "source": [
    "#%% Exercise 6\n",
    "def cleanNum(num):\n",
    "    if type(num)==float or type(num)==int:\n",
    "        return float(num)\n",
    "    elif type(num)==str:\n",
    "        return float(num.replace(\"$\",\"\").replace(\",\",\"\").replace(\"(\",\"-\").replace(\")\",\"\").replace('£','').replace('€',''))\n",
    "    else:\n",
    "        return \"n.a.\"\n",
    "\n",
    "messyData = ['$123,456', \"($400,927)\", \"-562\", 231.55, 100, '900000','€496,000','(£100,000)']\n",
    "cleanData = [cleanNum(x) for x in messyData]\n",
    "cleanData"
   ]
  },
  {
   "cell_type": "markdown",
   "metadata": {},
   "source": [
    "## Advanced Questions"
   ]
  },
  {
   "cell_type": "markdown",
   "metadata": {},
   "source": [
    "### Exercise 7\n",
    "In this exercise you will practice using functions, working with lists & dictionaries and formatting output. The function will simulate random prices movements of stocks.\n",
    "1. Create a dictionary with the following `{'AAPL':100.0, 'CAT':50.0, 'MSFT':150}`. These will be the starting prices for tickers AAPL, CAT, MSFT.\n",
    "2. Create a function that takes the dictionary as defined above and generates 5 random prices movements using the standard normal distribution. Store each of the movements in a dictionary and return this dictionary.   \n",
    "Hint: Remember that you can only store a single value for each key, you will need to use a list to store the five prices movements ({key:[list]}).\n",
    "3. The output should be formatted to display the ticker name and then the five price movements, to two (2) decimal places, in one line. e.g.: \n",
    "\n",
    "<div>\n",
    "AAPL: \\$99.44, \\$98.99, \\$100.31, \\$99.09, \\$98.59 <br /> \n",
    "CAT: \\$51.47, \\$49.77, \\$50.07, \\$48.58, \\$49.46  <br /> \n",
    "MSFT: \\$150.11, \\$148.85, \\$150.38, \\$149.40, \\$149.71 <br /> \n",
    "AAPL \\$100, CAT \\$50, MSFT \\$150 <br /> \n",
    "</div>"
   ]
  },
  {
   "cell_type": "markdown",
   "metadata": {},
   "source": [
    "<font color = 'blue'> **EXERCISE 7 SOLUTION** </font>"
   ]
  },
  {
   "cell_type": "code",
   "execution_count": 8,
   "metadata": {},
   "outputs": [],
   "source": [
    "#%% Exercise 7\n",
    "import numpy as np\n",
    "def stockmove(stockdict):\n",
    "    stockmoves = {}\n",
    "    for key in stockdict.keys():\n",
    "        price = stockdict[key]\n",
    "        moves = []\n",
    "        for i in range(5):\n",
    "            price = price + np.random.randn()\n",
    "            moves.append(price)\n",
    "        stockmoves[key] = moves\n",
    "    return stockmoves\n",
    "\n",
    "np.random.seed(42) #set seed to compare results\n",
    "\n",
    "stocks = {'AAPL':100.0, 'CAT':50.0, 'MSFT':150}\n",
    "\n",
    "pricemoves = stockmove(stocks)\n",
    "\n",
    "for key in pricemoves.keys():\n",
    "    print(key + \": \" + ', '.join(\"${:.2f}\".format(i) for i in pricemoves[key]))\n",
    "\n",
    "print(\", \".join(\"{} ${:.0f}\".format(ticker, val) for ticker, val in stocks.items()))"
   ]
  },
  {
   "cell_type": "markdown",
   "metadata": {},
   "source": [
    "### Exercise 8\n",
    "In this exercise you will practice creating and manipulating a data set within the DataFrame structure of the Pandas package.\n",
    "1. Simulate a company's historical share prices and EPS numbers over a length of 100 time periods by following the steps below. Store the data in a Pandas DataFrame variable called *coData*.\n",
    "- Import the numpy and pandas packages\n",
    "- Set the random seed to 21 in order to replicate the results in the answer key.\n",
    "- Create a variable called *prices* that stores 100 random historical share prices with a mean of \\$15.00 and standard deviation of 2.00.\n",
    "- Create a variable called *eps* that stores 100 random historical EPS values with a mean of \\$1.00 and standard deviation of 0.20.\n",
    "- Aggregate the two data sets into a DataFrame table called *coData* with the column headers \"Price\" and \"EPS\"\n",
    "\n",
    "2. Within the DataFrame created, add a column that calculates the P/E ratio and another column that calculates the share price returns between time periods. *Hint: Assume the randomly generated prices are already sorted in chronological order from oldest time period to newest.*\n",
    "\n",
    "3. Output the average, maximum and standard deviation of the P/E ratios and period returns. Ensure the outputs are properly formatted. For example:\n",
    "\n",
    "Avg P/E ratio: 16.14x <br /> \n",
    "Max P/E Ratio: 27.49x <br /> \n",
    "P/E Ratio Standard Deviation: 4.05x <br /> \n",
    "Avg Period Return: 1.7% <br /> \n",
    "Max Period Return: 70.8% <br /> \n",
    "Period Return Standard Deviation: 19.5% <br /> \n",
    "\n",
    "4. Find the number of time periods that the company traded at a historical P/E of over 20x.\n",
    "5. Find the time periods where the share price traded at \\$12 or less and the P/E ratio was less than or equal to 10x.\n",
    "- How many periods met this criteria?\n",
    "- What was the average return during these time periods?\n",
    "\n",
    "6. Plot the historical P/E ratios over time as a line chart."
   ]
  },
  {
   "cell_type": "markdown",
   "metadata": {},
   "source": [
    "<font color = 'blue'> **EXERCISE 8 SOLUTION** </font>"
   ]
  },
  {
   "cell_type": "code",
   "execution_count": 9,
   "metadata": {
    "scrolled": true,
    "tags": []
   },
   "outputs": [],
   "source": [
    "#%% Exercise 8\n",
    "#Part 1 - Creating the Data Set\n",
    "import pandas as pd\n",
    "import numpy as np\n",
    "\n",
    "np.random.seed(21)\n",
    "prices = np.random.normal(15, 2, 100)\n",
    "eps = np.random.normal(1, 0.2, 100)\n",
    "coData = pd.DataFrame({\"Price\":prices,\"EPS\":eps})\n",
    "\n",
    "#Part 2 - Adding Calculated Fields\n",
    "coData['P/E'] = coData['Price'] / coData['EPS']\n",
    "coData['Returns'] = coData['Price'].pct_change()\n",
    "coData"
   ]
  },
  {
   "cell_type": "code",
   "execution_count": 10,
   "metadata": {},
   "outputs": [],
   "source": [
    "#Part 3 - Output Key Stats\n",
    "print(\"Avg P/E ratio: {:.2f}x\".format(coData['P/E'].mean()))\n",
    "print(\"Max P/E Ratio: {:.2f}x\".format(coData['P/E'].max()))\n",
    "print(\"P/E Ratio Standard Deviation: {:.2f}x\".format(coData['P/E'].std()))\n",
    "print(\"Avg Period Return: {:.1%}\".format(coData['Returns'].mean()))\n",
    "print(\"Max Period Return: {:.1%}\".format(coData['Returns'].max()))\n",
    "print(\"Period Return Standard Deviation: {:.1%}\".format(coData['Returns'].std()))\n",
    "coData.describe()"
   ]
  },
  {
   "cell_type": "code",
   "execution_count": 11,
   "metadata": {},
   "outputs": [],
   "source": [
    "#Part 4 - Historical P/E of over 20x.\n",
    "filter1 = coData[coData['P/E'] > 20]\n",
    "print(filter1.shape[0])\n",
    "filter1"
   ]
  },
  {
   "cell_type": "code",
   "execution_count": 12,
   "metadata": {},
   "outputs": [],
   "source": [
    "#Part 5 - Share price at most $12 and P/E ratio less than or equal to 10x\n",
    "filter2 = coData[(coData['P/E'] <= 10)  & (coData['Price']<=12)]\n",
    "print(filter2.shape[0])\n",
    "print(\"{:.2%}\".format(filter2['Returns'].mean()))\n",
    "filter2"
   ]
  },
  {
   "cell_type": "code",
   "execution_count": 13,
   "metadata": {
    "scrolled": true
   },
   "outputs": [],
   "source": [
    "#Part 6 - Historical P/E Plot\n",
    "coData['P/E'].plot()"
   ]
  },
  {
   "cell_type": "code",
   "execution_count": null,
   "metadata": {},
   "outputs": [],
   "source": []
  }
 ],
 "metadata": {
  "header": "# Id:          $Id: $\n# Copyright:   2023 J.P. Morgan Chase & Co. Incorporated.  All rights reserved.\n# Type:        research\n# Group:       AthenaAnalystTraining\n# Flags:       py3\n# Description: Jupyter notebook created by bogdan.tudose\n\n",
  "kernelspec": {
   "display_name": "Athena 3.7",
   "language": "python",
   "name": "athena_py3"
  },
  "language_info": {
   "codemirror_mode": {
    "name": "ipython",
    "version": 3
   },
   "file_extension": ".py",
   "mimetype": "text/x-python",
   "name": "python",
   "nbconvert_exporter": "python",
   "pygments_lexer": "ipython3",
   "version": "3.7.9"
  }
 },
 "nbformat": 4,
 "nbformat_minor": 4
}
